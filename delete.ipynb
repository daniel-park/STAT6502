{
 "cells": [
  {
   "cell_type": "code",
   "execution_count": 1,
   "metadata": {
    "collapsed": true
   },
   "outputs": [],
   "source": [
    "test_text = \"\"\"2013-10-09\\t13:22\\tMiami\\tBoots\\t99.95\\tVisa\n",
    "2013-10-09\\t13:22\\tNew York\\tDVD\\t9.50\\tMasterCard\n",
    "2013-10-09 13:22:59 I/O Error\n",
    "^d8x28orz28zoijzu1z1zp1OHH3du3ixwcz114<f\n",
    "1\\t2\\t3\"\"\""
   ]
  },
  {
   "cell_type": "code",
   "execution_count": 31,
   "metadata": {
    "collapsed": false
   },
   "outputs": [
    {
     "name": "stdout",
     "output_type": "stream",
     "text": [
      "2013-10-09\t13:22\tMiami\tBoots\t99.95\tVisa\n",
      "2013-10-09\t13:22\tNew York\tDVD\t9.50\tMasterCard\n",
      "2013-10-09 13:22:59 I/O Error\n",
      "^d8x28orz28zoijzu1z1zp1OHH3du3ixwcz114<f\n",
      "1\t2\t3\n"
     ]
    }
   ],
   "source": [
    "print(test_text)"
   ]
  },
  {
   "cell_type": "code",
   "execution_count": 6,
   "metadata": {
    "collapsed": true
   },
   "outputs": [],
   "source": [
    "import StringIO"
   ]
  },
  {
   "cell_type": "code",
   "execution_count": 7,
   "metadata": {
    "collapsed": false
   },
   "outputs": [],
   "source": [
    "import sys"
   ]
  },
  {
   "cell_type": "code",
   "execution_count": 36,
   "metadata": {
    "collapsed": true
   },
   "outputs": [],
   "source": [
    "sys.stdin = StringIO.StringIO(test_text)"
   ]
  },
  {
   "cell_type": "code",
   "execution_count": 37,
   "metadata": {
    "collapsed": false
   },
   "outputs": [
    {
     "name": "stdout",
     "output_type": "stream",
     "text": [
      "<StringIO.StringIO instance at 0x103ece200>\n"
     ]
    }
   ],
   "source": [
    "print(sys.stdin)"
   ]
  },
  {
   "cell_type": "code",
   "execution_count": 38,
   "metadata": {
    "collapsed": false
   },
   "outputs": [
    {
     "name": "stdout",
     "output_type": "stream",
     "text": [
      "['2013-10-09', '13:22', 'Miami', 'Boots', '99.95', 'Visa']\n",
      "6\n",
      "['2013-10-09', '13:22', 'New York', 'DVD', '9.50', 'MasterCard']\n",
      "6\n",
      "['2013-10-09 13:22:59 I/O Error']\n",
      "1\n",
      "['^d8x28orz28zoijzu1z1zp1OHH3du3ixwcz114<f']\n",
      "1\n",
      "['1', '2', '3']\n",
      "3\n"
     ]
    }
   ],
   "source": [
    "for line in sys.stdin:\n",
    "    # strip off extra whitespace, split on tab and put the data in an array\n",
    "    data = line.strip().split(\"\\t\")\n",
    "\n",
    "    # This is the place you need to do some defensive programming\n",
    "    # what if there are not exactly 6 fields in that line?\n",
    "    # YOUR CODE HERE\n",
    "    print(data)\n",
    "    print(len(data))"
   ]
  },
  {
   "cell_type": "code",
   "execution_count": 23,
   "metadata": {
    "collapsed": false
   },
   "outputs": [
    {
     "name": "stdout",
     "output_type": "stream",
     "text": [
      "Hello world\n"
     ]
    }
   ],
   "source": [
    "print(\"Hello world\")"
   ]
  },
  {
   "cell_type": "code",
   "execution_count": null,
   "metadata": {
    "collapsed": true
   },
   "outputs": [],
   "source": []
  },
  {
   "cell_type": "code",
   "execution_count": null,
   "metadata": {
    "collapsed": true
   },
   "outputs": [],
   "source": []
  },
  {
   "cell_type": "code",
   "execution_count": null,
   "metadata": {
    "collapsed": true
   },
   "outputs": [],
   "source": []
  },
  {
   "cell_type": "code",
   "execution_count": null,
   "metadata": {
    "collapsed": true
   },
   "outputs": [],
   "source": []
  }
 ],
 "metadata": {
  "kernelspec": {
   "display_name": "Python 2",
   "language": "python",
   "name": "python2"
  },
  "language_info": {
   "codemirror_mode": {
    "name": "ipython",
    "version": 2
   },
   "file_extension": ".py",
   "mimetype": "text/x-python",
   "name": "python",
   "nbconvert_exporter": "python",
   "pygments_lexer": "ipython2",
   "version": "2.7.10"
  }
 },
 "nbformat": 4,
 "nbformat_minor": 0
}
